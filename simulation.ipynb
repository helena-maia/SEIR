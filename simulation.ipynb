{
 "cells": [
  {
   "cell_type": "markdown",
   "metadata": {},
   "source": [
    "\\begin{equation}\\label{eq:model}\n",
    "    \\frac{dS}{dt} = -\\frac{\\mathcal R_t}{T_{inf}}\\,I\\,S\\,,\n",
    "    \\quad\\frac{dE}{dt} = \\frac{\\mathcal R_t}{T_{inf}}\\,I\\,S - \\frac{E}{T_{inc}}\\,,\n",
    "    \\quad\\frac{dI}{dt} = \\frac{E}{T_{inc}} - \\frac{I}{T_{inf}}\\,,\n",
    "    \\quad\\ S+E+I+R = 100000000\\,,\n",
    "\\end{equation}\n",
    "and one additional equation\n",
    "\\begin{align}\\label{eq:completeModelSite}\n",
    "    D = \\alpha_d\\, R(t-T_d)\\,,\n",
    "\\end{align}"
   ]
  },
  {
   "cell_type": "code",
   "execution_count": 46,
   "metadata": {},
   "outputs": [],
   "source": [
    "# Model parameters for comparison with the site app\n",
    "rateR0 = 2.20\n",
    "Tinf = 2.34 \n",
    "Tinc = 5.17\n",
    "\n",
    "tIntervention = 60 # days\n",
    "rateRt = 1\n",
    "\n",
    "alphaD = 1\n",
    "Td = 3\n",
    "\n",
    "N = 226895473\n",
    "E0 = 1./N # 1 person was exposed\n",
    "I0 = 1./N # 1 person was infected\n",
    "tf = 60 # days"
   ]
  },
  {
   "cell_type": "code",
   "execution_count": 47,
   "metadata": {},
   "outputs": [
    {
     "name": "stdout",
     "output_type": "stream",
     "text": [
      "[0.9999999911853685, 4.407315786331268e-09, 4.407315786331268e-09]\n",
      "[-4.143630189940721e-09, 3.2911513144414433e-09, -1.0309894092576743e-09]\n"
     ]
    }
   ],
   "source": [
    "## Solving the ODE\n",
    "import numpy as np\n",
    "from scipy.integrate import odeint\n",
    "import matplotlib.pyplot as plt\n",
    "\n",
    "# function that returns dy/dt\n",
    "def model(y,t): # y = (S,E,I)\n",
    "    _S = y[0]\n",
    "    _E = y[1]\n",
    "    _I = y[2]\n",
    "    if t < tIntervention:\n",
    "        _rateR = rateR0\n",
    "    else:\n",
    "        _rateR = rateRt\n",
    "        \n",
    "    return [\n",
    "        -(_rateR/Tinf) * _I * _S,\n",
    "        (_rateR/Tinf) * _I * _S - _E/Tinc,\n",
    "        _E/Tinc - _I/Tinf\n",
    "    ]\n",
    "\n",
    "\n",
    "y0 = [\n",
    "    1-E0-I0,\n",
    "    E0,\n",
    "    I0\n",
    "]\n",
    "print(y0)\n",
    "print(model(y0,0.0))\n",
    "\n",
    "# time\n",
    "dt=1\n",
    "t = np.arange(0,tf+1,dt)\n",
    "\n",
    "# solve ODE\n",
    "y = odeint(model,y0,t)"
   ]
  },
  {
   "cell_type": "code",
   "execution_count": 48,
   "metadata": {},
   "outputs": [],
   "source": [
    "#Site deaths:\n",
    "vecD = np.zeros_like(y[:,0])\n",
    "for i in range(len(vecD)-Td):\n",
    "    vecD[i+Td] = (1-y[i,0]-y[i,1]-y[i,2])*N*alphaD"
   ]
  },
  {
   "cell_type": "code",
   "execution_count": 51,
   "metadata": {},
   "outputs": [
    {
     "data": {
      "image/png": "[encoded data removed]",
      "text/plain": [
       "<Figure size 432x288 with 1 Axes>"
      ]
     },
     "metadata": {
      "needs_background": "light"
     },
     "output_type": "display_data"
    }
   ],
   "source": [
    "# plot results\n",
    "#plt.plot(t, y[:,0], label='S(t)')\n",
    "plt.plot(t, y[:,1]*N, label='E(t)')\n",
    "plt.plot(t, y[:,2]*N, label='I(t)')\n",
    "plt.plot(t, (1-y[:,0]-y[:,1]-y[:,2])*N, label='R(t)')\n",
    "plt.plot(t, vecD, label='D(t)')\n",
    "\n",
    "plt.xlabel('t (days)')\n",
    "plt.legend()\n",
    "plt.grid()\n",
    "plt.show()"
   ]
  },
  {
   "cell_type": "code",
   "execution_count": null,
   "metadata": {},
   "outputs": [],
   "source": [
    "# # Model parameters:\n",
    "# rateR0 = 2.20\n",
    "# Tinf = 2.3\n",
    "# Tinc = 5.2\n",
    "\n",
    "# tIntervention = 60 # days\n",
    "# rateRt = 1\n",
    "\n",
    "# N = 210000000 # 210mi brazilians\n",
    "# E0 = 1./N # 1 person was exposed\n",
    "# I0 = 1./N # 1 person was infected\n",
    "\n",
    "# tf = 30 # days"
   ]
  },
  {
   "cell_type": "code",
   "execution_count": null,
   "metadata": {},
   "outputs": [],
   "source": []
  }
 ],
 "metadata": {
  "kernelspec": {
   "display_name": "Python 3",
   "language": "python",
   "name": "python3"
  },
  "language_info": {
   "codemirror_mode": {
    "name": "ipython",
    "version": 3
   },
   "file_extension": ".py",
   "mimetype": "text/x-python",
   "name": "python",
   "nbconvert_exporter": "python",
   "pygments_lexer": "ipython3",
   "version": "3.8.1"
  },
  "latex_envs": {
   "LaTeX_envs_menu_present": true,
   "autoclose": false,
   "autocomplete": false,
   "bibliofile": "biblio.bib",
   "cite_by": "apalike",
   "current_citInitial": 1,
   "eqLabelWithNumbers": true,
   "eqNumInitial": 1,
   "hotkeys": {
    "equation": "Ctrl-E",
    "itemize": "Ctrl-I"
   },
   "labels_anchors": false,
   "latex_user_defs": false,
   "report_style_numbering": false,
   "user_envs_cfg": false
  },
  "toc": {
   "base_numbering": 1,
   "nav_menu": {},
   "number_sections": true,
   "sideBar": true,
   "skip_h1_title": false,
   "title_cell": "Table of Contents",
   "title_sidebar": "Contents",
   "toc_cell": false,
   "toc_position": {},
   "toc_section_display": true,
   "toc_window_display": false
  }
 },
 "nbformat": 4,
 "nbformat_minor": 4
}
